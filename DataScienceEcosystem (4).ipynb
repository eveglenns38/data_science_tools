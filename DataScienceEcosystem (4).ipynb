{
 "cells": [
  {
   "cell_type": "markdown",
   "id": "b4dc425b-d5b7-40d3-a4f8-91419308fd9f",
   "metadata": {
    "tags": []
   },
   "source": [
    "## Data Science Tools and Ecosystem"
   ]
  },
  {
   "cell_type": "markdown",
   "id": "4b1f7946-afef-4a16-b867-6b5e7891a1a4",
   "metadata": {
    "tags": []
   },
   "source": [
    "# In this notebook, Data Science Tools and Ecosystem is summarized."
   ]
  },
  {
   "cell_type": "markdown",
   "id": "5df773a1-7790-44d5-92b3-586995aa1c81",
   "metadata": {
    "tags": []
   },
   "source": [
    "# Objectives:\n",
    "- Create and Execute Python in Jupyter Notebook\n",
    "- Has brief knowledge of SQL(Structured Query Language)\n",
    "- Able to translate math to code using R language"
   ]
  },
  {
   "cell_type": "markdown",
   "id": "49d39b95-c3bc-48d8-ada7-f5bd127a13d4",
   "metadata": {
    "jp-MarkdownHeadingCollapsed": true,
    "tags": []
   },
   "source": [
    "# Some of the popular languages that Data Scientists use are:\n",
    "1. Python\n",
    "2. R\n",
    "3. Java"
   ]
  },
  {
   "cell_type": "markdown",
   "id": "781949c9-a923-45a4-bb51-a52c8ec40925",
   "metadata": {},
   "source": [
    "# Some of the commonly libraries by the Data Scientists include:\n",
    "1. Scala\n",
    "2. Panda\n",
    "3. Scikit-learn\n",
    "4. Pytorch"
   ]
  },
  {
   "cell_type": "markdown",
   "id": "af0dd22a-9460-4865-85d5-77164a03ffa7",
   "metadata": {},
   "source": [
    "#\n",
    "|Data Science Tools|\n",
    "|-------------------|\n",
    "|Visual Studio|\n",
    "|Anaconda|\n",
    "|Jupyter Lab|"
   ]
  },
  {
   "cell_type": "markdown",
   "id": "5115dded-f9ef-44c6-a273-3e80edf06afc",
   "metadata": {},
   "source": [
    "### Below are a few examples of evaluating arithmetic expressions in Python"
   ]
  },
  {
   "cell_type": "code",
   "execution_count": 6,
   "id": "1f73b152-10bb-4286-ad75-3e361d97a1ad",
   "metadata": {
    "tags": []
   },
   "outputs": [
    {
     "data": {
      "text/plain": [
       "3.3333333333333335"
      ]
     },
     "execution_count": 6,
     "metadata": {},
     "output_type": "execute_result"
    }
   ],
   "source": [
    "200/60 # This will convert 200 minutes to hours by dividing 60"
   ]
  },
  {
   "cell_type": "code",
   "execution_count": 3,
   "id": "ba798a88-0bdb-4b52-a996-e57e9575ac45",
   "metadata": {
    "tags": []
   },
   "outputs": [
    {
     "data": {
      "text/plain": [
       "17"
      ]
     },
     "execution_count": 3,
     "metadata": {},
     "output_type": "execute_result"
    }
   ],
   "source": [
    "(3*4)+5"
   ]
  },
  {
   "cell_type": "markdown",
   "id": "e16188bb-b7e6-4fa6-ac06-ba1a75c8bc56",
   "metadata": {},
   "source": [
    "## Author\n",
    "Eve Glenn Sandoval"
   ]
  },
  {
   "cell_type": "code",
   "execution_count": null,
   "id": "ecd77633-30e4-46cd-b60f-b4e0d5ea4ab6",
   "metadata": {},
   "outputs": [],
   "source": []
  }
 ],
 "metadata": {
  "kernelspec": {
   "display_name": "Python",
   "language": "python",
   "name": "conda-env-python-py"
  },
  "language_info": {
   "codemirror_mode": {
    "name": "ipython",
    "version": 3
   },
   "file_extension": ".py",
   "mimetype": "text/x-python",
   "name": "python",
   "nbconvert_exporter": "python",
   "pygments_lexer": "ipython3",
   "version": "3.7.12"
  }
 },
 "nbformat": 4,
 "nbformat_minor": 5
}
